{
 "cells": [
  {
   "cell_type": "code",
   "execution_count": null,
   "id": "fe28f6a6",
   "metadata": {},
   "outputs": [],
   "source": [
    "import numpy as np\n",
    "import matplotlib.pyplot as plt\n",
    "from mpl_toolkits.mplot3d import Axes3D\n",
    "from sklearn.cluster import KMeans\n",
    "from sklearn.datasets import make_blobs"
   ]
  },
  {
   "cell_type": "code",
   "execution_count": null,
   "id": "432f3a83-7475-4210-98d9-f9cfc845eb7b",
   "metadata": {},
   "outputs": [],
   "source": [
    "!vmd -e coordinates.tcl\n",
    "#!sed -i 's/{/[/g' solbig.info\n",
    "#!sed -i 's/}/]/g' solbig.info\n",
    "#!sed -i 's/ /, /g' solbig.info\n",
    "!sed 's/}/\\n/g' sol.info | tee solmod.info\n",
    "!sed -i 's/{//g' solmod.info"
   ]
  },
  {
   "cell_type": "code",
   "execution_count": null,
   "id": "6dd78a29-4542-4e97-9f96-10115bb723f7",
   "metadata": {},
   "outputs": [],
   "source": [
    "#File_data = np.loadtxt(\"solbigmod.info\") \n",
    "#print(File_data) \n",
    "\n",
    "X = np.genfromtxt(\"solmod.info\", dtype=None, \n",
    "                     encoding=None, delimiter=\" \") \n",
    "print(X)\n"
   ]
  },
  {
   "cell_type": "code",
   "execution_count": null,
   "id": "08f86a99",
   "metadata": {},
   "outputs": [],
   "source": [
    "# Fit K-Means\n",
    "kmeans = KMeans(n_clusters=7, random_state=42)\n",
    "y_kmeans = kmeans.fit_predict(X)"
   ]
  },
  {
   "cell_type": "code",
   "execution_count": null,
   "id": "9af03869",
   "metadata": {},
   "outputs": [],
   "source": [
    "fig = plt.figure()\n",
    "ax = fig.add_subplot(111, projection='3d')\n",
    "\n",
    "# Plot data points\n",
    "ax.scatter(X[:, 0], X[:, 1], X[:, 2], c=y_kmeans, cmap='viridis', s=50)\n",
    "\n",
    "# Plot centroids\n",
    "centers = kmeans.cluster_centers_\n",
    "ax.scatter(centers[:, 0], centers[:, 1], centers[:, 2], c='red', s=200, alpha=0.75, marker='X')\n",
    "\n",
    "ax.set_xlabel('X Label')\n",
    "ax.set_ylabel('Y Label')\n",
    "ax.set_zlabel('Z Label')\n",
    "ax.set_title('3D Visualization of K-Means Clustering')\n",
    "plt.show()\n"
   ]
  },
  {
   "cell_type": "code",
   "execution_count": null,
   "id": "2b3a3ace-54e3-45a1-b1d9-2d065d14c6ec",
   "metadata": {},
   "outputs": [],
   "source": [
    "# Plot with Plotly\n",
    "import plotly.express as px\n",
    "fig = px.scatter_3d(x=X[:, 0], y=X[:, 1], z=X[:, 2], color=y_kmeans, title='3D Visualization of K-Means Clustering')\n",
    "fig.add_scatter3d(x=centers[:, 0], y=centers[:, 1], z=centers[:, 2], mode='markers', marker=dict(size=10, color='red'), name='Centroids')\n",
    "fig.show()"
   ]
  },
  {
   "cell_type": "code",
   "execution_count": null,
   "id": "9bec577f-be67-42ac-b0b6-2c50873a6568",
   "metadata": {},
   "outputs": [],
   "source": [
    "print(centers)"
   ]
  },
  {
   "cell_type": "code",
   "execution_count": null,
   "id": "b2b6e3cc-1a98-44fc-85c3-7a89533e3096",
   "metadata": {},
   "outputs": [],
   "source": [
    "fig = px.scatter_3d(title='3D Visualization of K-Means Clustering')\n",
    "fig.add_scatter3d(x=centers[:, 0], y=centers[:, 1], z=centers[:, 2], mode='markers', marker=dict(size=10, color='red'), name='Centroids')\n",
    "fig.show()"
   ]
  },
  {
   "cell_type": "code",
   "execution_count": null,
   "id": "e3548875-c74d-4566-b103-6ddefc164ab7",
   "metadata": {},
   "outputs": [],
   "source": []
  }
 ],
 "metadata": {
  "kernelspec": {
   "display_name": "Python 3 (ipykernel)",
   "language": "python",
   "name": "python3"
  },
  "language_info": {
   "codemirror_mode": {
    "name": "ipython",
    "version": 3
   },
   "file_extension": ".py",
   "mimetype": "text/x-python",
   "name": "python",
   "nbconvert_exporter": "python",
   "pygments_lexer": "ipython3",
   "version": "3.10.12"
  }
 },
 "nbformat": 4,
 "nbformat_minor": 5
}
